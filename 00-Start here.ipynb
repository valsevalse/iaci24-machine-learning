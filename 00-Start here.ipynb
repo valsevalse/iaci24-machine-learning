{
 "cells": [
  {
   "cell_type": "markdown",
   "id": "5cfcd60a",
   "metadata": {},
   "source": [
    "# IACI24 Machine Learning\n",
    "\n",
    "[What Is Machine Learning](01-What-Is-Machine-Learning.ipynb)                 \n",
    "\n",
    "[Introducing Scikit-Learn](02-Introducing-Scikit-Learn.ipynb)   \n",
    "\n",
    "[Hyperparameters and Model Validation](03-Hyperparameters-and-Model-Validation.ipynb)\n",
    "\n",
    "[Feature Engineering](04-Feature-Engineering.ipynb)\n",
    "\n",
    "[Linear Regression](06-Linear-Regression.ipynb)\n",
    "\n",
    "[Support Vector Machines](07-Support-Vector-Machines.ipynb)\n",
    "\n",
    "[Random Forests](08-Random-Forests.ipynb)\n",
    "\n",
    "[K-Means](11-K-Means.ipynb)\n",
    "\n",
    "[Image Features](14-Image-Features.ipynb)\n",
    "\n",
    "## Exercises\n",
    "\n",
    "[Data Loading](exercises/00-Data-Loading.ipynb)\n",
    "\n",
    "[Supervised Learning](exercises/01-Supervised-Learning.ipynb)\n",
    "\n",
    "[Review of Supervised Learning](exercises/02-Review-of-Supervised-Learning.ipynb)\n",
    "\n",
    "[Cross-validation and Grid Search](exercises/03-Cross-validation-and-Grid-Search.ipynb)\n",
    "\n",
    "[Linear Models for Classification](exercises/04-Linear-Models-for-Classification.ipynb)\n",
    "\n",
    "[Linear Models for Regression](exercises/05-Linear-Models-for-Regression.ipynb)\n",
    "\n",
    "[Trees](exercises/06-Trees.ipynb)"
   ]
  }
 ],
 "metadata": {
  "kernelspec": {
   "display_name": "Python 3 (ipykernel)",
   "language": "python",
   "name": "python3"
  },
  "language_info": {
   "codemirror_mode": {
    "name": "ipython",
    "version": 3
   },
   "file_extension": ".py",
   "mimetype": "text/x-python",
   "name": "python",
   "nbconvert_exporter": "python",
   "pygments_lexer": "ipython3",
   "version": "3.10.12"
  }
 },
 "nbformat": 4,
 "nbformat_minor": 5
}
