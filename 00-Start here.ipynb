{
 "cells": [
  {
   "cell_type": "markdown",
   "id": "b168b7a0",
   "metadata": {},
   "source": [
    "# IACI24 Machine Learning\n",
    "\n",
    "[What Is Machine Learning](01-What-Is-Machine-Learning.ipynb)                 \n",
    "\n",
    "[Introducing Scikit-Learn](02-Introducing-Scikit-Learn.ipynb)   \n",
    "\n",
    "[Hyperparameters and Model Validation](03-Hyperparameters-and-Model-Validation.ipynb)\n",
    "\n",
    "[Feature Engineering](04-Feature-Engineering.ipynb)\n",
    "\n",
    "[Linear Regression](06-Linear-Regression.ipynb)\n",
    "\n",
    "[Support Vector Machines](07-Support-Vector-Machines.ipynb)\n",
    "\n",
    "[Random Forests](08-Random-Forests.ipynb)\n",
    "\n",
    "[K-Means](11-K-Means.ipynb)\n",
    "\n",
    "[Image Features](14-Image-Features.ipynb)"
   ]
  },
  {
   "cell_type": "code",
   "execution_count": null,
   "id": "90275add",
   "metadata": {},
   "outputs": [],
   "source": []
  },
  {
   "cell_type": "code",
   "execution_count": null,
   "id": "2ac282e1",
   "metadata": {},
   "outputs": [],
   "source": []
  }
 ],
 "metadata": {
  "kernelspec": {
   "display_name": "Python 3 (ipykernel)",
   "language": "python",
   "name": "python3"
  },
  "language_info": {
   "codemirror_mode": {
    "name": "ipython",
    "version": 3
   },
   "file_extension": ".py",
   "mimetype": "text/x-python",
   "name": "python",
   "nbconvert_exporter": "python",
   "pygments_lexer": "ipython3",
   "version": "3.10.12"
  }
 },
 "nbformat": 4,
 "nbformat_minor": 5
}
